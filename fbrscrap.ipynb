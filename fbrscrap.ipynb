{
 "cells": [
  {
   "cell_type": "code",
   "execution_count": 1,
   "id": "239d069c",
   "metadata": {
    "ExecuteTime": {
     "end_time": "2021-08-24T11:02:07.127313Z",
     "start_time": "2021-08-24T11:02:07.117848Z"
    }
   },
   "outputs": [],
   "source": [
    "#standard(stats)\n",
    "stats = [\"player\",\"nationality\",\"position\",\"squad\",\"age\",\"birth_year\",\"games\",\"games_starts\",\"minutes\",\"goals\",\"assists\",\"pens_made\",\"pens_att\",\"cards_yellow\",\"cards_red\",\"goals_per90\",\"assists_per90\",\"goals_assists_per90\",\"goals_pens_per90\",\"goals_assists_pens_per90\",\"xg\",\"npxg\",\"xa\",\"xg_per90\",\"xa_per90\",\"xg_xa_per90\",\"npxg_per90\",\"npxg_xa_per90\"]\n",
    "#shooting(shooting)\n",
    "shooting2 = [\"minutes_90s\",\"goals\",\"pens_made\",\"pens_att\",\"shots_total\",\"shots_on_target\",\"shots_free_kicks\",\"shots_on_target_pct\",\"shots_total_per90\",\"shots_on_target_per90\",\"goals_per_shot\",\"goals_per_shot_on_target\",\"xg\",\"npxg\",\"npxg_per_shot\",\"xg_net\",\"npxg_net\"]\n",
    "#passing(passing)\n",
    "passing2 = [\"passes_completed\",\"passes\",\"passes_pct\",\"passes_total_distance\",\"passes_progressive_distance\",\"passes_completed_short\",\"passes_short\",\"passes_pct_short\",\"passes_completed_medium\",\"passes_medium\",\"passes_pct_medium\",\"passes_completed_long\",\"passes_long\",\"passes_pct_long\",\"assists\",\"xa\",\"xa_net\",\"assisted_shots\",\"passes_into_final_third\",\"passes_into_penalty_area\",\"crosses_into_penalty_area\",\"progressive_passes\"]\n",
    "#passtypes(passing_types)\n",
    "passing_types2 = [\"passes\",\"passes_live\",\"passes_dead\",\"passes_free_kicks\",\"through_balls\",\"passes_pressure\",\"passes_switches\",\"crosses\",\"corner_kicks\",\"corner_kicks_in\",\"corner_kicks_out\",\"corner_kicks_straight\",\"passes_ground\",\"passes_low\",\"passes_high\",\"passes_left_foot\",\"passes_right_foot\",\"passes_head\",\"throw_ins\",\"passes_other_body\",\"passes_completed\",\"passes_offsides\",\"passes_oob\",\"passes_intercepted\",\"passes_blocked\"]\n",
    "#goal and shot creation(gca)\n",
    "gca2 = [\"sca\",\"sca_per90\",\"sca_passes_live\",\"sca_passes_dead\",\"sca_dribbles\",\"sca_shots\",\"sca_fouled\", \"sca_defense\", \"gca\",\"gca_per90\",\"gca_passes_live\",\"gca_passes_dead\",\"gca_dribbles\",\"gca_shots\",\"gca_fouled\", \"gca_defense\"]\n",
    "#defensive actions(defense)\n",
    "defense2 = [\"tackles\",\"tackles_won\",\"tackles_def_3rd\",\"tackles_mid_3rd\",\"tackles_att_3rd\",\"dribble_tackles\",\"dribbles_vs\",\"dribble_tackles_pct\",\"dribbled_past\",\"pressures\",\"pressure_regains\",\"pressure_regain_pct\",\"pressures_def_3rd\",\"pressures_mid_3rd\",\"pressures_att_3rd\",\"blocks\",\"blocked_shots\",\"blocked_shots_saves\",\"blocked_passes\",\"interceptions\",\"clearances\",\"errors\"]\n",
    "#possession(possession)\n",
    "possession2 = [\"touches\",\"touches_def_pen_area\",\"touches_def_3rd\",\"touches_mid_3rd\",\"touches_att_3rd\",\"touches_att_pen_area\",\"touches_live_ball\",\"dribbles_completed\",\"dribbles\",\"dribbles_completed_pct\",\"players_dribbled_past\",\"nutmegs\",\"carries\",\"carry_distance\",\"carry_progressive_distance\",\"progressive_carries\",\"carries_into_final_third\",\"carries_into_penalty_area\",\"pass_targets\",\"passes_received\",\"passes_received_pct\",\"miscontrols\",\"dispossessed\"]\n",
    "#playingtime(playingtime)\n",
    "playingtime2 = [\"games\",\"minutes\",\"minutes_per_game\",\"minutes_pct\",\"games_starts\",\"minutes_per_start\",\"games_subs\",\"minutes_per_sub\",\"unused_subs\",\"points_per_match\",\"on_goals_for\",\"on_goals_against\",\"plus_minus\",\"plus_minus_per90\",\"plus_minus_wowy\",\"on_xg_for\",\"on_xg_against\",\"xg_plus_minus\",\"xg_plus_minus_per90\",\"xg_plus_minus_wowy\"]\n",
    "#miscallaneous(misc)\n",
    "misc2 = [\"cards_yellow\",\"cards_red\",\"cards_yellow_red\",\"fouls\",\"fouled\",\"offsides\",\"crosses\",\"interceptions\",\"tackles_won\",\"pens_won\",\"pens_conceded\",\"own_goals\",\"ball_recoveries\",\"aerials_won\",\"aerials_lost\",\"aerials_won_pct\"]\n",
    "#goalkeeping(keepers)\n",
    "keepers = [\"player\",\"nationality\",\"position\",\"squad\",\"age\",\"birth_year\",\"games_gk\",\"games_starts_gk\",\"minutes_gk\",\"goals_against_gk\",\"goals_against_per90_gk\",\"shots_on_target_against\",\"saves\",\"save_pct\",\"wins_gk\",\"draws_gk\",\"losses_gk\",\"clean_sheets\",\"clean_sheets_pct\",\"pens_att_gk\",\"pens_allowed\",\"pens_saved\",\"pens_missed_gk\"]\n",
    "#advance goalkeeping(keepersadv)\n",
    "keepersadv2 = [\"minutes_90s\",\"goals_against_gk\",\"pens_allowed\",\"free_kick_goals_against_gk\",\"corner_kick_goals_against_gk\",\"own_goals_against_gk\",\"psxg_gk\",\"psnpxg_per_shot_on_target_against\",\"psxg_net_gk\",\"psxg_net_per90_gk\",\"passes_completed_launched_gk\",\"passes_launched_gk\",\"passes_pct_launched_gk\",\"passes_gk\",\"passes_throws_gk\",\"pct_passes_launched_gk\",\"passes_length_avg_gk\",\"goal_kicks\",\"pct_goal_kicks_launched\",\"goal_kick_length_avg\",\"crosses_gk\",\"crosses_stopped_gk\",\"crosses_stopped_pct_gk\",\"def_actions_outside_pen_area_gk\",\"def_actions_outside_pen_area_per90_gk\",\"avg_distance_def_actions_gk\"]"
   ]
  },
  {
   "cell_type": "code",
   "execution_count": 2,
   "id": "27437abe",
   "metadata": {
    "ExecuteTime": {
     "end_time": "2021-08-24T11:02:09.518272Z",
     "start_time": "2021-08-24T11:02:09.230605Z"
    }
   },
   "outputs": [],
   "source": [
    "\n",
    "import requests\n",
    "from bs4 import BeautifulSoup\n",
    "import pandas as pd\n",
    "import numpy as np\n",
    "import re\n",
    "import sys, getopt\n",
    "import csv"
   ]
  },
  {
   "cell_type": "markdown",
   "id": "37ba592a",
   "metadata": {},
   "source": [
    "# The following functions extract the data into a dataframe"
   ]
  },
  {
   "cell_type": "code",
   "execution_count": 3,
   "id": "78665ff0",
   "metadata": {
    "ExecuteTime": {
     "end_time": "2021-08-24T11:02:11.226719Z",
     "start_time": "2021-08-24T11:02:11.220199Z"
    }
   },
   "outputs": [],
   "source": [
    "def get_tables(url):\n",
    "    res = requests.get(url)\n",
    "    comm = re.compile(\"<!--|-->\")\n",
    "    soup = BeautifulSoup(comm.sub(\"\",res.text),'lxml')\n",
    "    all_tables = soup.findAll(\"tbody\")\n",
    "    team_table = all_tables[0]\n",
    "    player_table = all_tables[1]\n",
    "    return player_table, team_table\n",
    "\n",
    "def get_frame(features, player_table):\n",
    "    pre_df_player = dict()\n",
    "    features_wanted_player = features\n",
    "    rows_player = player_table.find_all('tr')\n",
    "    for row in rows_player:\n",
    "        if(row.find('th',{\"scope\":\"row\"}) != None):\n",
    "    \n",
    "            for f in features_wanted_player:\n",
    "                cell = row.find(\"td\",{\"data-stat\": f})\n",
    "                a = cell.text.strip().encode()\n",
    "                text=a.decode(\"utf-8\")\n",
    "                if(text == ''):\n",
    "                    text = '0'\n",
    "                if((f!='player')&(f!='nationality')&(f!='position')&(f!='squad')&(f!='age')&(f!='birth_year')):\n",
    "                    text = float(text.replace(',',''))\n",
    "                if f in pre_df_player:\n",
    "                    pre_df_player[f].append(text)\n",
    "                else:\n",
    "                    pre_df_player[f] = [text]\n",
    "    df_player = pd.DataFrame.from_dict(pre_df_player)\n",
    "    return df_player\n",
    "\n",
    "def frame_for_category(category,top,end,features):\n",
    "    url = (top + category + end)\n",
    "    player_table, team_table = get_tables(url)\n",
    "    df_player = get_frame(features, player_table)\n",
    "    return df_player"
   ]
  },
  {
   "cell_type": "markdown",
   "id": "dcb6bb2d",
   "metadata": {},
   "source": [
    "# This function returns a dataframe with all the statistics of the field players"
   ]
  },
  {
   "cell_type": "code",
   "execution_count": 4,
   "id": "12acbe87",
   "metadata": {
    "ExecuteTime": {
     "end_time": "2021-08-24T11:02:13.816106Z",
     "start_time": "2021-08-24T11:02:13.811535Z"
    }
   },
   "outputs": [],
   "source": [
    "\n",
    "def get_outfield_data(top, end):\n",
    "    df1 = frame_for_category('stats',top,end,stats)\n",
    "    df2 = frame_for_category('shooting',top,end,shooting2)\n",
    "    df3 = frame_for_category('passing',top,end,passing2)\n",
    "    df4 = frame_for_category('passing_types',top,end,passing_types2)\n",
    "    df5 = frame_for_category('gca',top,end,gca2)\n",
    "    df6 = frame_for_category('defense',top,end,defense2)\n",
    "    df7 = frame_for_category('possession',top,end,possession2)\n",
    "    df8 = frame_for_category('misc',top,end,misc2)\n",
    "    df = pd.concat([df1, df2, df3, df4, df5, df6, df7, df8], axis=1)\n",
    "    df = df.loc[:,~df.columns.duplicated()]\n",
    "    return df"
   ]
  },
  {
   "cell_type": "markdown",
   "id": "1ffcd563",
   "metadata": {},
   "source": [
    "# This function returns a dataframe with all the statistics of the gatekeepers"
   ]
  },
  {
   "cell_type": "code",
   "execution_count": 5,
   "id": "3edb99ae",
   "metadata": {
    "ExecuteTime": {
     "end_time": "2021-08-24T11:02:16.726028Z",
     "start_time": "2021-08-24T11:02:16.720860Z"
    }
   },
   "outputs": [],
   "source": [
    "\n",
    "def get_keeper_data(top,end):\n",
    "    df1 = frame_for_category('keepers',top,end,keepers)\n",
    "    df2 = frame_for_category('keepersadv',top,end,keepersadv2)\n",
    "    df3 = frame_for_category('passing_types',top,end,passing_types2)\n",
    "    df = pd.concat([df1, df2, df3], axis=1)\n",
    "    df = df.loc[:,~df.columns.duplicated()]\n",
    "    return df"
   ]
  },
  {
   "cell_type": "markdown",
   "id": "cf88e9f2",
   "metadata": {},
   "source": [
    "# All the tables of the seasons from 2018 to 2021 are concatenated"
   ]
  },
  {
   "cell_type": "code",
   "execution_count": 6,
   "id": "a227f822",
   "metadata": {
    "ExecuteTime": {
     "end_time": "2021-08-24T11:07:33.974391Z",
     "start_time": "2021-08-24T11:02:18.655844Z"
    },
    "scrolled": true
   },
   "outputs": [
    {
     "data": {
      "text/html": [
       "<div>\n",
       "<style scoped>\n",
       "    .dataframe tbody tr th:only-of-type {\n",
       "        vertical-align: middle;\n",
       "    }\n",
       "\n",
       "    .dataframe tbody tr th {\n",
       "        vertical-align: top;\n",
       "    }\n",
       "\n",
       "    .dataframe thead th {\n",
       "        text-align: right;\n",
       "    }\n",
       "</style>\n",
       "<table border=\"1\" class=\"dataframe\">\n",
       "  <thead>\n",
       "    <tr style=\"text-align: right;\">\n",
       "      <th></th>\n",
       "      <th>player</th>\n",
       "      <th>nationality</th>\n",
       "      <th>position</th>\n",
       "      <th>squad</th>\n",
       "      <th>age</th>\n",
       "      <th>birth_year</th>\n",
       "      <th>games</th>\n",
       "      <th>games_starts</th>\n",
       "      <th>minutes</th>\n",
       "      <th>goals</th>\n",
       "      <th>...</th>\n",
       "      <th>fouls</th>\n",
       "      <th>fouled</th>\n",
       "      <th>offsides</th>\n",
       "      <th>pens_won</th>\n",
       "      <th>pens_conceded</th>\n",
       "      <th>own_goals</th>\n",
       "      <th>ball_recoveries</th>\n",
       "      <th>aerials_won</th>\n",
       "      <th>aerials_lost</th>\n",
       "      <th>aerials_won_pct</th>\n",
       "    </tr>\n",
       "  </thead>\n",
       "  <tbody>\n",
       "    <tr>\n",
       "      <th>0</th>\n",
       "      <td>Patrick van Aanholt, 2017-18</td>\n",
       "      <td>nl NED</td>\n",
       "      <td>DF</td>\n",
       "      <td>Crystal Palace</td>\n",
       "      <td>26</td>\n",
       "      <td>1990</td>\n",
       "      <td>28.0</td>\n",
       "      <td>25.0</td>\n",
       "      <td>2184.0</td>\n",
       "      <td>5.0</td>\n",
       "      <td>...</td>\n",
       "      <td>18.0</td>\n",
       "      <td>10.0</td>\n",
       "      <td>3.0</td>\n",
       "      <td>0.0</td>\n",
       "      <td>0.0</td>\n",
       "      <td>0.0</td>\n",
       "      <td>213.0</td>\n",
       "      <td>7.0</td>\n",
       "      <td>10.0</td>\n",
       "      <td>41.2</td>\n",
       "    </tr>\n",
       "    <tr>\n",
       "      <th>1</th>\n",
       "      <td>Rolando Aarons, 2017-18</td>\n",
       "      <td>eng ENG</td>\n",
       "      <td>FW,MF</td>\n",
       "      <td>Newcastle Utd</td>\n",
       "      <td>21</td>\n",
       "      <td>1995</td>\n",
       "      <td>4.0</td>\n",
       "      <td>1.0</td>\n",
       "      <td>139.0</td>\n",
       "      <td>0.0</td>\n",
       "      <td>...</td>\n",
       "      <td>8.0</td>\n",
       "      <td>11.0</td>\n",
       "      <td>0.0</td>\n",
       "      <td>0.0</td>\n",
       "      <td>0.0</td>\n",
       "      <td>0.0</td>\n",
       "      <td>22.0</td>\n",
       "      <td>7.0</td>\n",
       "      <td>15.0</td>\n",
       "      <td>31.8</td>\n",
       "    </tr>\n",
       "    <tr>\n",
       "      <th>2</th>\n",
       "      <td>Rolando Aarons, 2017-18</td>\n",
       "      <td>eng ENG</td>\n",
       "      <td>MF,FW</td>\n",
       "      <td>Hellas Verona</td>\n",
       "      <td>21</td>\n",
       "      <td>1995</td>\n",
       "      <td>11.0</td>\n",
       "      <td>6.0</td>\n",
       "      <td>517.0</td>\n",
       "      <td>0.0</td>\n",
       "      <td>...</td>\n",
       "      <td>1.0</td>\n",
       "      <td>3.0</td>\n",
       "      <td>1.0</td>\n",
       "      <td>0.0</td>\n",
       "      <td>0.0</td>\n",
       "      <td>0.0</td>\n",
       "      <td>13.0</td>\n",
       "      <td>2.0</td>\n",
       "      <td>3.0</td>\n",
       "      <td>40.0</td>\n",
       "    </tr>\n",
       "    <tr>\n",
       "      <th>3</th>\n",
       "      <td>Ignazio Abate, 2017-18</td>\n",
       "      <td>it ITA</td>\n",
       "      <td>DF</td>\n",
       "      <td>Milan</td>\n",
       "      <td>30</td>\n",
       "      <td>1986</td>\n",
       "      <td>17.0</td>\n",
       "      <td>11.0</td>\n",
       "      <td>1057.0</td>\n",
       "      <td>1.0</td>\n",
       "      <td>...</td>\n",
       "      <td>11.0</td>\n",
       "      <td>8.0</td>\n",
       "      <td>3.0</td>\n",
       "      <td>0.0</td>\n",
       "      <td>0.0</td>\n",
       "      <td>0.0</td>\n",
       "      <td>106.0</td>\n",
       "      <td>5.0</td>\n",
       "      <td>4.0</td>\n",
       "      <td>55.6</td>\n",
       "    </tr>\n",
       "    <tr>\n",
       "      <th>4</th>\n",
       "      <td>Aymen Abdennour, 2017-18</td>\n",
       "      <td>tn TUN</td>\n",
       "      <td>DF</td>\n",
       "      <td>Marseille</td>\n",
       "      <td>27</td>\n",
       "      <td>1989</td>\n",
       "      <td>8.0</td>\n",
       "      <td>6.0</td>\n",
       "      <td>500.0</td>\n",
       "      <td>0.0</td>\n",
       "      <td>...</td>\n",
       "      <td>7.0</td>\n",
       "      <td>6.0</td>\n",
       "      <td>0.0</td>\n",
       "      <td>0.0</td>\n",
       "      <td>0.0</td>\n",
       "      <td>0.0</td>\n",
       "      <td>57.0</td>\n",
       "      <td>3.0</td>\n",
       "      <td>0.0</td>\n",
       "      <td>100.0</td>\n",
       "    </tr>\n",
       "  </tbody>\n",
       "</table>\n",
       "<p>5 rows × 155 columns</p>\n",
       "</div>"
      ],
      "text/plain": [
       "                         player nationality position           squad age  \\\n",
       "0  Patrick van Aanholt, 2017-18      nl NED       DF  Crystal Palace  26   \n",
       "1       Rolando Aarons, 2017-18     eng ENG    FW,MF   Newcastle Utd  21   \n",
       "2       Rolando Aarons, 2017-18     eng ENG    MF,FW   Hellas Verona  21   \n",
       "3        Ignazio Abate, 2017-18      it ITA       DF           Milan  30   \n",
       "4      Aymen Abdennour, 2017-18      tn TUN       DF       Marseille  27   \n",
       "\n",
       "  birth_year  games  games_starts  minutes  goals  ...  fouls  fouled  \\\n",
       "0       1990   28.0          25.0   2184.0    5.0  ...   18.0    10.0   \n",
       "1       1995    4.0           1.0    139.0    0.0  ...    8.0    11.0   \n",
       "2       1995   11.0           6.0    517.0    0.0  ...    1.0     3.0   \n",
       "3       1986   17.0          11.0   1057.0    1.0  ...   11.0     8.0   \n",
       "4       1989    8.0           6.0    500.0    0.0  ...    7.0     6.0   \n",
       "\n",
       "   offsides  pens_won  pens_conceded  own_goals  ball_recoveries  aerials_won  \\\n",
       "0       3.0       0.0            0.0        0.0            213.0          7.0   \n",
       "1       0.0       0.0            0.0        0.0             22.0          7.0   \n",
       "2       1.0       0.0            0.0        0.0             13.0          2.0   \n",
       "3       3.0       0.0            0.0        0.0            106.0          5.0   \n",
       "4       0.0       0.0            0.0        0.0             57.0          3.0   \n",
       "\n",
       "   aerials_lost  aerials_won_pct  \n",
       "0          10.0             41.2  \n",
       "1          15.0             31.8  \n",
       "2           3.0             40.0  \n",
       "3           4.0             55.6  \n",
       "4           0.0            100.0  \n",
       "\n",
       "[5 rows x 155 columns]"
      ]
     },
     "execution_count": 6,
     "metadata": {},
     "output_type": "execute_result"
    }
   ],
   "source": [
    "\n",
    "df_2018 = get_outfield_data('https://fbref.com/en/comps/Big5/2017-2018/','/players/2017-2018-Big-5-European-Leagues-Stats')\n",
    "df_2018[\"player\"] = df_2018[\"player\"] + ', 2017-18'\n",
    "df_2019 = get_outfield_data('https://fbref.com/en/comps/Big5/2018-2019/','/players/2018-2019-Big-5-European-Leagues-Stats')\n",
    "df_2019[\"player\"] = df_2019[\"player\"] + ', 2018-19'\n",
    "df_2020 = get_outfield_data('https://fbref.com/en/comps/Big5/2019-2020/','/players/2019-2020-Big-5-European-Leagues-Stats')\n",
    "df_2020[\"player\"] = df_2020[\"player\"] + ', 2019-20'\n",
    "df_2021 = get_outfield_data('https://fbref.com/en/comps/Big5/2020-2021/','/players/2020-2021-Big-5-European-Leagues-Stats')\n",
    "df_2021[\"player\"] = df_2021[\"player\"] + ', 2020-21'\n",
    "df = pd.concat([df_2018, df_2019, df_2020, df_2021])\n",
    "\n",
    "df.head()"
   ]
  },
  {
   "cell_type": "code",
   "execution_count": null,
   "id": "247ea07e",
   "metadata": {
    "ExecuteTime": {
     "end_time": "2021-08-24T11:01:57.523397Z",
     "start_time": "2021-08-24T11:01:57.523382Z"
    }
   },
   "outputs": [],
   "source": [
    "df.to_csv('fbref_players.csv')\n",
    "df"
   ]
  },
  {
   "cell_type": "markdown",
   "id": "0c68d364",
   "metadata": {},
   "source": [
    "# A list is extracted with the links of all the players"
   ]
  },
  {
   "cell_type": "code",
   "execution_count": null,
   "id": "4aee6694",
   "metadata": {
    "ExecuteTime": {
     "end_time": "2021-08-24T11:01:57.524696Z",
     "start_time": "2021-08-24T11:01:57.524679Z"
    }
   },
   "outputs": [],
   "source": [
    "player_table_2018 = get_tables('https://fbref.com/en/comps/Big5/2017-2018/stats/players/2017-2018-Big-5-European-Leagues-Stats')[0]\n",
    "rows_player_2018 = player_table_2018.find_all('tr')\n",
    "rows_player_2018\n",
    "link_jugador_2018 = list()\n",
    "for row in rows_player_2018:\n",
    "    if(row.find('th',{\"scope\":\"row\"}) != None):\n",
    "        cell = row.find(\"td\",{\"data-stat\":\"player\"})\n",
    "        for jugador in cell.find_all('a'):\n",
    "            if jugador.has_attr('href'):\n",
    "                link_jugador_2018.append(jugador.attrs['href'])\n",
    "                \n",
    "player_table_2019 = get_tables('https://fbref.com/en/comps/Big5/2018-2019/stats/players/2018-2019-Big-5-European-Leagues-Stats')[0]\n",
    "rows_player_2019 = player_table_2019.find_all('tr')\n",
    "rows_player_2019\n",
    "link_jugador_2019 = list()\n",
    "for row in rows_player_2019:\n",
    "    if(row.find('th',{\"scope\":\"row\"}) != None):\n",
    "        cell = row.find(\"td\",{\"data-stat\":\"player\"})\n",
    "        for jugador in cell.find_all('a'):\n",
    "            if jugador.has_attr('href'):\n",
    "                link_jugador_2019.append(jugador.attrs['href'])\n",
    "                \n",
    "player_table_2020 = get_tables('https://fbref.com/en/comps/Big5/2019-2020/stats/players/2019-2020-Big-5-European-Leagues-Stats')[0]\n",
    "rows_player_2020 = player_table_2020.find_all('tr')\n",
    "rows_player_2020\n",
    "link_jugador_2020 = list()\n",
    "for row in rows_player_2020:\n",
    "    if(row.find('th',{\"scope\":\"row\"}) != None):\n",
    "        cell = row.find(\"td\",{\"data-stat\":\"player\"})\n",
    "        for jugador in cell.find_all('a'):\n",
    "            if jugador.has_attr('href'):\n",
    "                link_jugador_2020.append(jugador.attrs['href'])\n",
    "                \n",
    "player_table_2021 = get_tables('https://fbref.com/en/comps/Big5/2020-2021/stats/players/2020-2021-Big-5-European-Leagues-Stats')[0]\n",
    "rows_player_2021 = player_table_2021.find_all('tr')\n",
    "rows_player_2021\n",
    "link_jugador_2021 = list()\n",
    "for row in rows_player_2021:\n",
    "    if(row.find('th',{\"scope\":\"row\"}) != None):\n",
    "        cell = row.find(\"td\",{\"data-stat\":\"player\"})\n",
    "        for jugador in cell.find_all('a'):\n",
    "            if jugador.has_attr('href'):\n",
    "                link_jugador_2021.append(jugador.attrs['href'])\n",
    "                \n",
    "link_jugador = link_jugador_2018+link_jugador_2019+link_jugador_2020+link_jugador_2021"
   ]
  },
  {
   "cell_type": "markdown",
   "id": "3f9302b2",
   "metadata": {},
   "source": [
    "# You get a link with the photos of all the players"
   ]
  },
  {
   "cell_type": "code",
   "execution_count": null,
   "id": "67204950",
   "metadata": {
    "ExecuteTime": {
     "end_time": "2021-08-24T11:01:57.526289Z",
     "start_time": "2021-08-24T11:01:57.526276Z"
    }
   },
   "outputs": [],
   "source": [
    "image_jugador = link_jugador.copy()\n",
    "for i in range(0, len(link_jugador)):\n",
    "    image_jugador[i] = \"https://fbref.com/req/202005121/images/headshots/\" + link_jugador[i][12:20] + \"_2018.jpg\""
   ]
  },
  {
   "cell_type": "markdown",
   "id": "f89bb6f8",
   "metadata": {},
   "source": [
    "#  A new column is added to the dataframe: the links to the images of the players"
   ]
  },
  {
   "cell_type": "code",
   "execution_count": null,
   "id": "36859b93",
   "metadata": {
    "ExecuteTime": {
     "end_time": "2021-08-24T10:50:59.272240Z",
     "start_time": "2021-08-24T10:50:59.268593Z"
    }
   },
   "outputs": [],
   "source": [
    "df[\"Image jugador\"] = image_jugador"
   ]
  },
  {
   "cell_type": "markdown",
   "id": "7684fc5f",
   "metadata": {},
   "source": [
    "# This dataframe is finalized by eliminating the possible gatekeepers who have sneaked in"
   ]
  },
  {
   "cell_type": "code",
   "execution_count": null,
   "id": "1c62a24b",
   "metadata": {
    "ExecuteTime": {
     "end_time": "2021-08-24T10:51:55.236932Z",
     "start_time": "2021-08-24T10:51:55.225706Z"
    }
   },
   "outputs": [],
   "source": [
    "outfield = df[(df.position != \"GK\") & (df.position != \"GK,MF\")]"
   ]
  },
  {
   "cell_type": "markdown",
   "id": "2cd69910",
   "metadata": {},
   "source": [
    "# The same process is carried out with the goalkeepers"
   ]
  },
  {
   "cell_type": "code",
   "execution_count": null,
   "id": "7ebee7c5",
   "metadata": {
    "ExecuteTime": {
     "end_time": "2021-08-24T10:54:56.614829Z",
     "start_time": "2021-08-24T10:53:44.213587Z"
    }
   },
   "outputs": [],
   "source": [
    "df_keeper_2018 = get_keeper_data('https://fbref.com/en/comps/Big5/2017-2018/','/players/2017-2018-Big-5-European-Leagues-Stats')\n",
    "df_keeper_2018[\"player\"] = df_keeper_2018[\"player\"] + ', 2017-18'\n",
    "df_keeper_2019 = get_keeper_data('https://fbref.com/en/comps/Big5/2018-2019/','/players/2018-2019-Big-5-European-Leagues-Stats')\n",
    "df_keeper_2019[\"player\"] = df_keeper_2019[\"player\"] + ', 2018-19'\n",
    "df_keeper_2020 = get_keeper_data('https://fbref.com/en/comps/Big5/2019-2020/','/players/2019-2020-Big-5-European-Leagues-Stats')\n",
    "df_keeper_2020[\"player\"] = df_keeper_2020[\"player\"] + ', 2019-20'\n",
    "df_keeper_2021 = get_keeper_data('https://fbref.com/en/comps/Big5/2020-2021/','/players/2020-2021-Big-5-European-Leagues-Stats')\n",
    "df_keeper_2021[\"player\"] = df_keeper_2021[\"player\"] + ', 2020-21'\n",
    "df_keeper = pd.concat([df_keeper_2018, df_keeper_2019, df_keeper_2020, df_keeper_2021])\n",
    "df_keeper.head()"
   ]
  },
  {
   "cell_type": "code",
   "execution_count": null,
   "id": "444bf955",
   "metadata": {
    "ExecuteTime": {
     "end_time": "2021-08-24T10:57:38.858016Z",
     "start_time": "2021-08-24T10:57:38.804858Z"
    }
   },
   "outputs": [],
   "source": [
    "df_keeper.to_csv('fbref_goalkeepers.csv')\n",
    "df_keeper"
   ]
  },
  {
   "cell_type": "code",
   "execution_count": null,
   "id": "c7ce4461",
   "metadata": {
    "ExecuteTime": {
     "end_time": "2021-08-24T10:57:42.826244Z",
     "start_time": "2021-08-24T10:57:42.819195Z"
    }
   },
   "outputs": [],
   "source": [
    "df_keeper = df_keeper.dropna()"
   ]
  },
  {
   "cell_type": "code",
   "execution_count": null,
   "id": "96e21974",
   "metadata": {
    "ExecuteTime": {
     "end_time": "2021-08-24T10:57:52.192636Z",
     "start_time": "2021-08-24T10:57:52.188683Z"
    }
   },
   "outputs": [],
   "source": [
    "df_keeper.position = \"GK\""
   ]
  },
  {
   "cell_type": "code",
   "execution_count": null,
   "id": "442a0433",
   "metadata": {
    "ExecuteTime": {
     "end_time": "2021-08-24T10:58:09.905863Z",
     "start_time": "2021-08-24T10:58:08.461541Z"
    }
   },
   "outputs": [],
   "source": [
    "keeper_table_2018 = get_tables('https://fbref.com/en/comps/Big5/2017-2018/keepers/players/2017-2018-Big-5-European-Leagues-Stats')[0]\n",
    "rows_keeper_2018 = keeper_table_2018.find_all('tr')\n",
    "rows_keeper_2018\n",
    "link_portero_2018 = list()\n",
    "for row in rows_keeper_2018:\n",
    "    if(row.find('th',{\"scope\":\"row\"}) != None):\n",
    "        cell = row.find(\"td\",{\"data-stat\":\"player\"})\n",
    "        for jugador in cell.find_all('a'):\n",
    "            if jugador.has_attr('href'):\n",
    "                link_portero_2018.append(jugador.attrs['href'])\n",
    "                \n",
    "keeper_table_2019 = get_tables('https://fbref.com/en/comps/Big5/2018-2019/keepers/players/2018-2019-Big-5-European-Leagues-Stats')[0]\n",
    "rows_keeper_2019 = keeper_table_2019.find_all('tr')\n",
    "rows_keeper_2019\n",
    "link_portero_2019 = list()\n",
    "for row in rows_keeper_2019:\n",
    "    if(row.find('th',{\"scope\":\"row\"}) != None):\n",
    "        cell = row.find(\"td\",{\"data-stat\":\"player\"})\n",
    "        for jugador in cell.find_all('a'):\n",
    "            if jugador.has_attr('href'):\n",
    "                link_portero_2019.append(jugador.attrs['href'])\n",
    "                \n",
    "keeper_table_2020 = get_tables('https://fbref.com/en/comps/Big5/2019-2020/keepers/players/2019-2020-Big-5-European-Leagues-Stats')[0]\n",
    "rows_keeper_2020 = keeper_table_2020.find_all('tr')\n",
    "rows_keeper_2020\n",
    "link_portero_2020 = list()\n",
    "for row in rows_keeper_2020:\n",
    "    if(row.find('th',{\"scope\":\"row\"}) != None):\n",
    "        cell = row.find(\"td\",{\"data-stat\":\"player\"})\n",
    "        for jugador in cell.find_all('a'):\n",
    "            if jugador.has_attr('href'):\n",
    "                link_portero_2020.append(jugador.attrs['href'])\n",
    "                \n",
    "keeper_table_2021 = get_tables('https://fbref.com/en/comps/Big5/2020-2021/keepers/players/2020-2021-Big-5-European-Leagues-Stats')[0]\n",
    "rows_keeper_2021 = keeper_table_2021.find_all('tr')\n",
    "rows_keeper_2021\n",
    "link_portero_2021 = list()\n",
    "for row in rows_keeper_2021:\n",
    "    if(row.find('th',{\"scope\":\"row\"}) != None):\n",
    "        cell = row.find(\"td\",{\"data-stat\":\"player\"})\n",
    "        for jugador in cell.find_all('a'):\n",
    "            if jugador.has_attr('href'):\n",
    "                link_portero_2021.append(jugador.attrs['href'])\n",
    "                \n",
    "link_portero = link_portero_2018+link_portero_2019+link_portero_2020+link_portero_2021"
   ]
  },
  {
   "cell_type": "code",
   "execution_count": null,
   "id": "2a409266",
   "metadata": {
    "ExecuteTime": {
     "end_time": "2021-08-24T10:58:52.143944Z",
     "start_time": "2021-08-24T10:58:52.140819Z"
    }
   },
   "outputs": [],
   "source": [
    "image_portero = link_portero.copy()\n",
    "for i in range(0, len(link_portero)):\n",
    "    image_portero[i] = \"https://fbref.com/req/202005121/images/headshots/\" + link_portero[i][12:20] + \"_2018.jpg\""
   ]
  },
  {
   "cell_type": "code",
   "execution_count": null,
   "id": "444a8b06",
   "metadata": {
    "ExecuteTime": {
     "end_time": "2021-08-24T10:59:08.039020Z",
     "start_time": "2021-08-24T10:59:08.035362Z"
    }
   },
   "outputs": [],
   "source": [
    "df_keeper[\"Image jugador\"] = image_portero"
   ]
  },
  {
   "cell_type": "code",
   "execution_count": null,
   "id": "d49cc154",
   "metadata": {
    "ExecuteTime": {
     "end_time": "2021-08-24T10:59:17.195050Z",
     "start_time": "2021-08-24T10:59:17.168603Z"
    }
   },
   "outputs": [],
   "source": [
    "df_keeper"
   ]
  },
  {
   "cell_type": "code",
   "execution_count": null,
   "id": "723ff4d7",
   "metadata": {},
   "outputs": [],
   "source": []
  }
 ],
 "metadata": {
  "kernelspec": {
   "display_name": "Python 3 (ipykernel)",
   "language": "python",
   "name": "python3"
  },
  "language_info": {
   "codemirror_mode": {
    "name": "ipython",
    "version": 3
   },
   "file_extension": ".py",
   "mimetype": "text/x-python",
   "name": "python",
   "nbconvert_exporter": "python",
   "pygments_lexer": "ipython3",
   "version": "3.8.6"
  },
  "toc": {
   "base_numbering": 1,
   "nav_menu": {},
   "number_sections": true,
   "sideBar": true,
   "skip_h1_title": false,
   "title_cell": "Table of Contents",
   "title_sidebar": "Contents",
   "toc_cell": false,
   "toc_position": {},
   "toc_section_display": true,
   "toc_window_display": false
  }
 },
 "nbformat": 4,
 "nbformat_minor": 5
}
